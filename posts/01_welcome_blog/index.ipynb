{
 "cells": [
  {
   "cell_type": "markdown",
   "metadata": {"quarto": {
    "title": "Welcome!",
    "author": "Mehrin Kiani",
    "date": "2024-06-03",
    "categories": ["Welcome"]
} },
   "source": [
    "\n",
    "Hello! and welcome to my Machine Learning (ML) blog! \n",
    "\n",
    "I plan using my blog to share what I learn. At the moment, I am attending the course turned conference on [Mastering LLMs: A Conference For Developers & Data Scientists](https://maven.com/parlance-labs/fine-tuning) and short term plan is to post about what I learn at the conference.  \n",
    "\n",
    "## Work Experience\n",
    "I work as a Machine Learning Scientist. Part of my reserch work focussed on ModelScan: It is an OSS project that scans Machine Learning (ML) models to determine if they contain unsafe code, i.e. scans for Model Serialization Attack (MSA). \n",
    "\n",
    "- Build a proof of concept for model serialization attacks for the aforementioned ML libraries \n",
    "- Wrote Jupyter Notebooks to demonstrate MSA on Tensorflow, Keras, PyTorch, XGBoost models.\n",
    "- Develop ModelScan to detect model serialization attacks *without* loading the model for the aforementioned ML frameworks\n",
    "\n",
    "## Educational Background\n",
    "I have a PhD in Computer Science from University of Essex, England. My research work focussed on developing novel ML algorithms to inform our understanding of developmental cognitive neuroscience. More details of my research can be found on my [Google Scholar](https://scholar.google.com/citations?user=gqvfKwgAAAAJ&hl=en)\n",
    "\n"
   ]
  }
 ],
 "metadata": {
  "language_info": {
   "name": "python"
  }
 },
 "nbformat": 4,
 "nbformat_minor": 2
}
